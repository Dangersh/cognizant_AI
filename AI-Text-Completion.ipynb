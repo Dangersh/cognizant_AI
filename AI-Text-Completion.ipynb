{
  "nbformat": 4,
  "nbformat_minor": 0,
  "metadata": {
    "colab": {
      "provenance": []
    },
    "kernelspec": {
      "name": "python3",
      "display_name": "Python 3"
    },
    "language_info": {
      "name": "python"
    }
  },
  "cells": [
    {
      "cell_type": "code",
      "execution_count": 2,
      "metadata": {
        "colab": {
          "base_uri": "https://localhost:8080/"
        },
        "id": "aF09PKoTg6R8",
        "outputId": "8965dfa6-ac33-4857-cbc7-67cd34c48203"
      },
      "outputs": [
        {
          "output_type": "stream",
          "name": "stdout",
          "text": [
            "Collecting cohere\n",
            "  Downloading cohere-5.15.0-py3-none-any.whl.metadata (3.4 kB)\n",
            "Collecting fastavro<2.0.0,>=1.9.4 (from cohere)\n",
            "  Downloading fastavro-1.11.1-cp311-cp311-manylinux_2_17_x86_64.manylinux2014_x86_64.whl.metadata (5.7 kB)\n",
            "Requirement already satisfied: httpx>=0.21.2 in /usr/local/lib/python3.11/dist-packages (from cohere) (0.28.1)\n",
            "Collecting httpx-sse==0.4.0 (from cohere)\n",
            "  Downloading httpx_sse-0.4.0-py3-none-any.whl.metadata (9.0 kB)\n",
            "Requirement already satisfied: pydantic>=1.9.2 in /usr/local/lib/python3.11/dist-packages (from cohere) (2.11.5)\n",
            "Requirement already satisfied: pydantic-core<3.0.0,>=2.18.2 in /usr/local/lib/python3.11/dist-packages (from cohere) (2.33.2)\n",
            "Requirement already satisfied: requests<3.0.0,>=2.0.0 in /usr/local/lib/python3.11/dist-packages (from cohere) (2.32.3)\n",
            "Requirement already satisfied: tokenizers<1,>=0.15 in /usr/local/lib/python3.11/dist-packages (from cohere) (0.21.1)\n",
            "Collecting types-requests<3.0.0,>=2.0.0 (from cohere)\n",
            "  Downloading types_requests-2.32.4.20250611-py3-none-any.whl.metadata (2.1 kB)\n",
            "Requirement already satisfied: typing_extensions>=4.0.0 in /usr/local/lib/python3.11/dist-packages (from cohere) (4.14.0)\n",
            "Requirement already satisfied: anyio in /usr/local/lib/python3.11/dist-packages (from httpx>=0.21.2->cohere) (4.9.0)\n",
            "Requirement already satisfied: certifi in /usr/local/lib/python3.11/dist-packages (from httpx>=0.21.2->cohere) (2025.4.26)\n",
            "Requirement already satisfied: httpcore==1.* in /usr/local/lib/python3.11/dist-packages (from httpx>=0.21.2->cohere) (1.0.9)\n",
            "Requirement already satisfied: idna in /usr/local/lib/python3.11/dist-packages (from httpx>=0.21.2->cohere) (3.10)\n",
            "Requirement already satisfied: h11>=0.16 in /usr/local/lib/python3.11/dist-packages (from httpcore==1.*->httpx>=0.21.2->cohere) (0.16.0)\n",
            "Requirement already satisfied: annotated-types>=0.6.0 in /usr/local/lib/python3.11/dist-packages (from pydantic>=1.9.2->cohere) (0.7.0)\n",
            "Requirement already satisfied: typing-inspection>=0.4.0 in /usr/local/lib/python3.11/dist-packages (from pydantic>=1.9.2->cohere) (0.4.1)\n",
            "Requirement already satisfied: charset-normalizer<4,>=2 in /usr/local/lib/python3.11/dist-packages (from requests<3.0.0,>=2.0.0->cohere) (3.4.2)\n",
            "Requirement already satisfied: urllib3<3,>=1.21.1 in /usr/local/lib/python3.11/dist-packages (from requests<3.0.0,>=2.0.0->cohere) (2.4.0)\n",
            "Requirement already satisfied: huggingface-hub<1.0,>=0.16.4 in /usr/local/lib/python3.11/dist-packages (from tokenizers<1,>=0.15->cohere) (0.32.4)\n",
            "Requirement already satisfied: filelock in /usr/local/lib/python3.11/dist-packages (from huggingface-hub<1.0,>=0.16.4->tokenizers<1,>=0.15->cohere) (3.18.0)\n",
            "Requirement already satisfied: fsspec>=2023.5.0 in /usr/local/lib/python3.11/dist-packages (from huggingface-hub<1.0,>=0.16.4->tokenizers<1,>=0.15->cohere) (2025.3.2)\n",
            "Requirement already satisfied: packaging>=20.9 in /usr/local/lib/python3.11/dist-packages (from huggingface-hub<1.0,>=0.16.4->tokenizers<1,>=0.15->cohere) (24.2)\n",
            "Requirement already satisfied: pyyaml>=5.1 in /usr/local/lib/python3.11/dist-packages (from huggingface-hub<1.0,>=0.16.4->tokenizers<1,>=0.15->cohere) (6.0.2)\n",
            "Requirement already satisfied: tqdm>=4.42.1 in /usr/local/lib/python3.11/dist-packages (from huggingface-hub<1.0,>=0.16.4->tokenizers<1,>=0.15->cohere) (4.67.1)\n",
            "Requirement already satisfied: hf-xet<2.0.0,>=1.1.2 in /usr/local/lib/python3.11/dist-packages (from huggingface-hub<1.0,>=0.16.4->tokenizers<1,>=0.15->cohere) (1.1.2)\n",
            "Requirement already satisfied: sniffio>=1.1 in /usr/local/lib/python3.11/dist-packages (from anyio->httpx>=0.21.2->cohere) (1.3.1)\n",
            "Downloading cohere-5.15.0-py3-none-any.whl (259 kB)\n",
            "\u001b[2K   \u001b[90m━━━━━━━━━━━━━━━━━━━━━━━━━━━━━━━━━━━━━━━━\u001b[0m \u001b[32m259.5/259.5 kB\u001b[0m \u001b[31m5.9 MB/s\u001b[0m eta \u001b[36m0:00:00\u001b[0m\n",
            "\u001b[?25hDownloading httpx_sse-0.4.0-py3-none-any.whl (7.8 kB)\n",
            "Downloading fastavro-1.11.1-cp311-cp311-manylinux_2_17_x86_64.manylinux2014_x86_64.whl (3.3 MB)\n",
            "\u001b[2K   \u001b[90m━━━━━━━━━━━━━━━━━━━━━━━━━━━━━━━━━━━━━━━━\u001b[0m \u001b[32m3.3/3.3 MB\u001b[0m \u001b[31m58.8 MB/s\u001b[0m eta \u001b[36m0:00:00\u001b[0m\n",
            "\u001b[?25hDownloading types_requests-2.32.4.20250611-py3-none-any.whl (20 kB)\n",
            "Installing collected packages: types-requests, httpx-sse, fastavro, cohere\n",
            "Successfully installed cohere-5.15.0 fastavro-1.11.1 httpx-sse-0.4.0 types-requests-2.32.4.20250611\n"
          ]
        }
      ],
      "source": [
        "pip install cohere --upgrade\n"
      ]
    },
    {
      "cell_type": "code",
      "source": [
        "import cohere\n",
        "co = cohere.ClientV2(\"wFiMllLBbrQmPYsa6voo60HetQKbHaJJGDesmQpU\")\n",
        "response = co.chat(\n",
        "    model=\"command-a-03-2025\",\n",
        "    messages=[{\"role\": \"user\", \"content\": \"hello world!\"}]\n",
        ")\n",
        "print(response)"
      ],
      "metadata": {
        "colab": {
          "base_uri": "https://localhost:8080/"
        },
        "id": "E7YTvfh4h2q_",
        "outputId": "e5c9716a-9684-4202-a20d-2ec0cfaf787a"
      },
      "execution_count": 11,
      "outputs": [
        {
          "output_type": "stream",
          "name": "stdout",
          "text": [
            "id='08f82830-cc04-42db-850f-f0c355453f61' finish_reason='COMPLETE' prompt=None message=AssistantMessageResponse(role='assistant', tool_calls=None, tool_plan=None, content=[TextAssistantMessageResponseContentItem(type='text', text='Hello! How can I assist you today?')], citations=None) usage=Usage(billed_units=UsageBilledUnits(input_tokens=3.0, output_tokens=9.0, search_units=None, classifications=None), tokens=UsageTokens(input_tokens=498.0, output_tokens=11.0)) logprobs=None\n"
          ]
        }
      ]
    },
    {
      "cell_type": "code",
      "source": [
        "def get_float(prompt_text, default, min_val=0.0, max_val=1.0):\n",
        "    try:\n",
        "        val = input(f\"{prompt_text} (default: {default}): \").strip()\n",
        "        if not val:\n",
        "            return default\n",
        "        val = float(val)\n",
        "        if not (min_val <= val <= max_val):\n",
        "            raise ValueError\n",
        "        return val\n",
        "    except ValueError:\n",
        "        print(f\"⚠️  Invalid input. Using default value: {default}\")\n",
        "        return default\n",
        "\n",
        "def get_int(prompt_text, default, min_val=1, max_val=1000):\n",
        "    \"\"\"Helper to get an int input with validation and default fallback.\"\"\"\n",
        "    try:\n",
        "        val = input(f\"{prompt_text} (default: {default}): \").strip()\n",
        "        if not val:\n",
        "            return default\n",
        "        val = int(val)\n",
        "        if not (min_val <= val <= max_val):\n",
        "            raise ValueError\n",
        "        return val\n",
        "    except ValueError:\n",
        "        print(f\"⚠️  Invalid input. Using default value: {default}\")\n",
        "        return default"
      ],
      "metadata": {
        "id": "cFqKuGSpko2p"
      },
      "execution_count": 16,
      "outputs": []
    },
    {
      "cell_type": "code",
      "source": [
        "def main():\n",
        "    print(\"🤖 Welcome to Cohere Prompt Generator!\")\n",
        "    print(\"Set your generation parameters below.\\n\")\n",
        "\n",
        "    # Get generation settings\n",
        "    temperature = get_float(\"Temperature (0 = factual, 1 = creative)\", default=0.7)\n",
        "    top_p = get_float(\"Top-p (sampling diversity)\", default=0.9)\n",
        "    max_tokens = get_int(\"Max tokens in the response\", default=100)\n",
        "\n",
        "    print(\"\\nType your prompt below (or type 'exit' to quit):\\n\")\n",
        "\n",
        "    while True:\n",
        "        user_input = input(\"You: \").strip()\n",
        "\n",
        "        if user_input.lower() == \"exit\":\n",
        "            print(\"Goodbye! 👋\")\n",
        "            break\n",
        "        elif not user_input:\n",
        "            print(\"⚠️  Please enter a valid prompt.\\n\")\n",
        "            continue\n",
        "\n",
        "        try:\n",
        "            response = co.generate(\n",
        "                model=\"command\",  # or \"command-nightly\" for latest\n",
        "                prompt=user_input,\n",
        "                temperature=temperature,\n",
        "                max_tokens=max_tokens,\n",
        "            )\n",
        "            print(\"Cohere:\", response.generations[0].text.strip(), \"\\n\")\n",
        "\n",
        "        except Exception as e:\n",
        "            print(\"❌ Error:\", e, \"\\n\")\n",
        "\n",
        "if __name__ == \"__main__\":\n",
        "    main()"
      ],
      "metadata": {
        "colab": {
          "base_uri": "https://localhost:8080/"
        },
        "id": "L4BuOj4Ekjbg",
        "outputId": "a2f5ab39-83f3-4fe8-8e21-0372e8ad0db6"
      },
      "execution_count": null,
      "outputs": [
        {
          "output_type": "stream",
          "name": "stdout",
          "text": [
            "🤖 Welcome to Cohere Prompt Generator!\n",
            "Set your generation parameters below.\n",
            "\n",
            "Temperature (0 = factual, 1 = creative) (default: 0.7): 0.9\n",
            "Top-p (sampling diversity) (default: 0.9): 0.8\n",
            "Max tokens in the response (default: 100): 80\n",
            "\n",
            "Type your prompt below (or type 'exit' to quit):\n",
            "\n",
            "You: write a haiku about the ocean\n",
            "Cohere: Ocean of wonders \n",
            "I dive in and explore \n",
            "Secret treasures hideable \n",
            "\n",
            "You: Explain recursion like I’m five\n",
            "Cohere: Recursion is a process where a problem is solved by breaking it down into smaller instances of the same problem, and then solving each of those smaller problems using the same approach. It is a bit like a puzzle that has many pieces, where each piece is a smaller version of the same puzzle. \n",
            "\n",
            "To solve a puzzle, you would take one piece and solve that smaller version of the puzzle \n",
            "\n",
            "You: summarize this text: You: Explain recursion like I’m five Cohere: Recursion is a process where a problem is solved by breaking it down into smaller instances of the same problem, and then solving each of those smaller problems using the same approach. It is a bit like a puzzle that has many pieces, where each piece is a smaller version of the same puzzle.   To solve a puzzle, you would take one piece and solve that smaller version of the puzzle \n",
            "Cohere: Recursion is a problem-solving technique that breaks down big problems into smaller versions of the same problem. Think of it like a puzzle with many pieces, where each piece is a smaller copy of the same puzzle. To solve a puzzle, you pick one piece and work on that smaller piece until it's solved. Then, you move on to the next piece, solving that one too. All \n",
            "\n"
          ]
        }
      ]
    }
  ]
}